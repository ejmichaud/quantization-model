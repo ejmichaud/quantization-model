{
 "cells": [
  {
   "cell_type": "code",
   "execution_count": 24,
   "metadata": {},
   "outputs": [],
   "source": [
    "from collections import defaultdict\n",
    "from typing import List\n",
    "\n",
    "import numpy as np\n",
    "from sklearn.linear_model import LinearRegression\n",
    "import matplotlib.pyplot as plt\n",
    "from tqdm.auto import tqdm\n",
    "\n",
    "import scipy.linalg\n",
    "import torch\n",
    "import torch.nn.functional as F\n",
    "import sklearn.cluster\n",
    "\n",
    "import datasets\n",
    "from datasets import load_dataset, set_caching_enabled\n",
    "from transformers import AutoTokenizer, GPTNeoXForCausalLM"
   ]
  },
  {
   "cell_type": "code",
   "execution_count": 2,
   "metadata": {},
   "outputs": [
    {
     "name": "stderr",
     "output_type": "stream",
     "text": [
      "/om2/user/ericjm/miniconda3/envs/phase-changes/lib/python3.8/site-packages/datasets/arrow_dataset.py:1533: FutureWarning: 'fs' was is deprecated in favor of 'storage_options' in version 2.8.0 and will be removed in 3.0.0.\n",
      "You can remove this warning by passing 'storage_options=fs.storage_options' instead.\n",
      "  warnings.warn(\n"
     ]
    }
   ],
   "source": [
    "pile_canonical = \"/om/user/ericjm/the_pile/the_pile_test_canonical_200k\"\n",
    "# ----- load the_pile test set -----\n",
    "dataset = datasets.load_from_disk(pile_canonical)\n",
    "\n",
    "def tokenize_sample(sample):\n",
    "    tokens = tokenizer(sample[\"text\"], return_tensors='pt', \n",
    "                        max_length=1024, truncation=True)[\"input_ids\"]\n",
    "    return {\"input_ids\": tokens}\n",
    "\n",
    "starting_indexes = np.array([0] + list(np.cumsum(dataset[\"preds_len\"])))\n",
    "\n",
    "def loss_idx_to_dataset_idx(idx):\n",
    "    \"\"\"given an idx in range(0, 10658635), return\n",
    "    a sample index in range(0, 20000) and pred-in-sample\n",
    "    index in range(0, 1023). Note token-in-sample idx is\n",
    "    exactly pred-in-sample + 1\"\"\"\n",
    "    sample_index = np.searchsorted(starting_indexes, idx, side=\"right\") - 1\n",
    "    pred_in_sample_index = idx - starting_indexes[sample_index]\n",
    "    return int(sample_index), int(pred_in_sample_index)\n",
    "\n",
    "def get_context(idx):\n",
    "    \"\"\"given idx in range(0, 10658635), return dataset sample\n",
    "    and predicted token index within sample, in range(1, 1024).\"\"\"\n",
    "    sample_index, pred_index = loss_idx_to_dataset_idx(idx)\n",
    "    return dataset[sample_index], pred_index+1\n",
    "\n",
    "def print_context(idx, context_length=-1):\n",
    "    \"\"\"\n",
    "    given idx in range(0, 10658635), print prompt preceding the corresponding\n",
    "    prediction, and highlight the predicted token.\n",
    "    \"\"\"\n",
    "    sample, token_idx = get_context(idx)\n",
    "    prompt = sample[\"split_by_token\"][:token_idx]\n",
    "    if context_length > 0:\n",
    "        prompt = prompt[-context_length:]\n",
    "    prompt = \"\".join(prompt)\n",
    "    token = sample[\"split_by_token\"][token_idx]\n",
    "    print(prompt + \"\\033[41m\" + token + \"\\033[0m\")"
   ]
  },
  {
   "cell_type": "code",
   "execution_count": 3,
   "metadata": {},
   "outputs": [],
   "source": [
    "model_names = [\n",
    "    \"pythia-19m\",\n",
    "    \"pythia-125m\",\n",
    "    \"pythia-350m\",\n",
    "    \"pythia-800m\",\n",
    "    \"pythia-1.3b\",\n",
    "    \"pythia-2.7b\",\n",
    "    \"pythia-6.7b\",\n",
    "    \"pythia-13b\"\n",
    "]"
   ]
  },
  {
   "cell_type": "code",
   "execution_count": 4,
   "metadata": {},
   "outputs": [],
   "source": [
    "curves = np.load(\"/om/user/ericjm/results/the-everything-machine/pythia-2/pythia-2.npy\")"
   ]
  },
  {
   "cell_type": "code",
   "execution_count": 5,
   "metadata": {},
   "outputs": [],
   "source": [
    "sizes = torch.load(\"/om/user/ericjm/results/the-everything-machine/pythia-0/num_params.pt\")\n",
    "no_emb_params = [sizes[mn][0] for mn in model_names[:-1]]\n",
    "with_emb_params = [sizes[mn][2] for mn in model_names[:-1]]"
   ]
  },
  {
   "cell_type": "code",
   "execution_count": 6,
   "metadata": {},
   "outputs": [
    {
     "data": {
      "text/plain": [
       "{'pythia-19m': (18915328, 44670976, 70426624),\n",
       " 'pythia-125m': (85056000, 123689472, 162322944),\n",
       " 'pythia-350m': (302311424, 353822720, 405334016),\n",
       " 'pythia-800m': (805736448, 908759040, 1011781632),\n",
       " 'pythia-1.3b': (1208602624, 1311625216, 1414647808),\n",
       " 'pythia-2.7b': (2517652480, 2646430720, 2775208960),\n",
       " 'pythia-6.7b': (6444163072, 6650732544, 6857302016),\n",
       " 'pythia-13b': (11327027200, 11586549760, 11846072320)}"
      ]
     },
     "execution_count": 6,
     "metadata": {},
     "output_type": "execute_result"
    }
   ],
   "source": [
    "sizes"
   ]
  },
  {
   "attachments": {},
   "cell_type": "markdown",
   "metadata": {},
   "source": [
    "### Compute monogenic tokens"
   ]
  },
  {
   "cell_type": "code",
   "execution_count": 7,
   "metadata": {},
   "outputs": [
    {
     "data": {
      "application/vnd.jupyter.widget-view+json": {
       "model_id": "d8e2bcda4d934cab890393fc01ae2b95",
       "version_major": 2,
       "version_minor": 0
      },
      "text/plain": [
       "  0%|          | 0/6 [00:00<?, ?it/s]"
      ]
     },
     "metadata": {},
     "output_type": "display_data"
    }
   ],
   "source": [
    "monogenic_idxs = defaultdict(list)\n",
    "\n",
    "aboves = curves > 5.0\n",
    "belows = curves < 0.3\n",
    "for j in tqdm([1, 2, 3, 4, 5, 6]):\n",
    "    aboves_before_j, = np.all(aboves[:, :j], axis=1).nonzero()\n",
    "    belows_j_and_after, = np.all(belows[:, j:], axis=1).nonzero()\n",
    "    monogenic_idxs[j] = np.intersect1d(aboves_before_j, belows_j_and_after).tolist()\n"
   ]
  },
  {
   "cell_type": "code",
   "execution_count": 134,
   "metadata": {},
   "outputs": [],
   "source": [
    "def context_tokens(idx, context_length=100, after=0):\n",
    "    sample, token_idx = get_context(idx)\n",
    "    prompt = sample[\"split_by_token\"][:token_idx]\n",
    "    token = sample[\"split_by_token\"][token_idx]\n",
    "    after_tokens = sample[\"split_by_token\"][token_idx+1:token_idx+1+after]\n",
    "    return prompt[-context_length:] + [token] + after_tokens\n",
    "\n",
    "def contains_unicode(text: str) -> bool:\n",
    "    return any(ord(char) > 127 for char in text)\n",
    "\n",
    "def tokens_to_latex(tokens: List[str], highlight_index=-1) -> str:\n",
    "    latex_code = r\"\\color{lgray}{...}\"\n",
    "    for i, token in enumerate(tokens):\n",
    "        # choose the text that will go inside the \\tok command after {\\strut}\n",
    "        if token == \"\\n\":\n",
    "            latex_text = r\"{\\textbackslash}n\" # some text that represents a newline\n",
    "            # latex_text = \"↲\" # sadly these aren't working\n",
    "        elif all([c == \" \" for c in token]):\n",
    "            latex_text = r\"\\phantom{\" + \"a\"*len(token) + r\"}\" # some invisible text that represents a space\n",
    "        elif token == \"\\t\":\n",
    "            latex_text = r\"\\phantom{aaaa}\" # some invisible text that represents a tab\n",
    "        else:\n",
    "            latex_text = token.replace(\"_\", r\"\\_\").replace(\"#\", r\"\\#\").replace(\"$\", r\"\\$\").replace(\"%\", r\"\\%\").replace(\"{\", r\"\\{\").replace(\"}\", r\"\\}\").replace(r\"&\", r\"\\&\")\n",
    "        background_color = \"white\" if i != highlight_index % len(tokens) else \"lightred\"\n",
    "        if i <= highlight_index % len(tokens):\n",
    "            text_color = \"black\"\n",
    "        else:\n",
    "            text_color = \"lgray\"\n",
    "        latex_code += r'\\ttok[{}]'.format(background_color) + r'{{\\strut}' + r'\\color{' + text_color + r'}{' + latex_text + r'}' + r'}'\n",
    "        latex_code += r'\\allowbreak '  # Allow line breaks between tokens\n",
    "        if token == \"\\n\":\n",
    "            latex_code += r\"\\\\\"\n",
    "    latex_code += r\"\\color{lgray}{...}\"\n",
    "    return latex_code"
   ]
  },
  {
   "cell_type": "code",
   "execution_count": 135,
   "metadata": {},
   "outputs": [
    {
     "name": "stdout",
     "output_type": "stream",
     "text": [
      "Mounting tensions with Syria sink US stocks\n",
      "\n",
      "NEW YORK (AP) — Fears of an escalating conflict in Syria rippled across financial markets on Tuesday, sinking stocks, lifting gold and pushing the price of oil to the highest in a year and a half.\n",
      "\n",
      "The increasing possibility of U.S. military strikes raised worries on Wall Street that energy trade in the region could be disrupted, raising fuel costs for consumers and business.\n",
      "\n",
      "\"If Syria becomes drawn out and becomes a long-term issue, it's going to show up in things like gas prices,\" said Chris Costanzo, investment officer with Tanglewood Wealth Management.\n",
      "\n",
      "The Dow Jones industrial average fell 170.33 points, or 1.1 percent, to 14,776.13, the lowest in two months.\n",
      "\n",
      "The Standard & Poor's 500 index lost 26.30 points, or 1.6 percent, to 1,630.48 and the Nasdaq composite fell 79.05 points, or 2.2 percent, to 3,578.52.\n",
      "\n",
      "\"The law of unintended consequences and the history of previous military interventions in the region is not a recipe for political and economic stability,\" said Neil MacKinnon, global macro strategist at\u001b[41m V\u001b[0m\n"
     ]
    },
    {
     "data": {
      "image/png": "[encoded data removed]",
      "text/plain": [
       "<Figure size 250x150 with 1 Axes>"
      ]
     },
     "metadata": {},
     "output_type": "display_data"
    }
   ],
   "source": [
    "plt.figure(figsize=(2.5, 1.5))\n",
    "\n",
    "i = 2\n",
    "idx = monogenic_idxs[6][0]\n",
    "plt.plot(no_emb_params, curves[idx]/np.log(2), 'o-', markersize=4)\n",
    "plt.xscale('log')\n",
    "plt.xlabel(\"Parameters (non-embedding)\", fontsize=7)\n",
    "plt.ylabel(\"Cross-entropy (bits)\", fontsize=6)\n",
    "plt.yticks([0, 3, 6, 9], fontsize=8)\n",
    "plt.xticks(fontsize=8)\n",
    "print_context(idx)\n",
    "\n",
    "plt.tight_layout(pad=0.1)\n",
    "plt.savefig(\"../figures/tokenscaling/tokenneilmackinnon.pdf\")"
   ]
  },
  {
   "cell_type": "code",
   "execution_count": 136,
   "metadata": {},
   "outputs": [
    {
     "name": "stdout",
     "output_type": "stream",
     "text": [
      "['\"', 'The', ' law', ' of', ' unintended', ' consequences', ' and', ' the', ' history', ' of', ' previous', ' military', ' interventions', ' in', ' the', ' region', ' is', ' not', ' a', ' recipe', ' for', ' political', ' and', ' economic', ' stability', ',\"', ' said', ' Neil', ' Mac', 'K', 'inn', 'on', ',', ' global', ' macro', ' strateg', 'ist', ' at', ' V']\n"
     ]
    }
   ],
   "source": [
    "print(context_tokens(idx, 38))"
   ]
  },
  {
   "cell_type": "code",
   "execution_count": 137,
   "metadata": {},
   "outputs": [],
   "source": [
    "before = 38\n",
    "after = 5\n",
    "tokens = context_tokens(idx, before, after=after)\n",
    "text = tokens_to_latex(tokens, -(after+1))\n",
    "with open(\"../texts/tokenpile/tokenneilmackinnon.tex\", 'w') as f:\n",
    "    f.write(text)"
   ]
  },
  {
   "cell_type": "code",
   "execution_count": 138,
   "metadata": {},
   "outputs": [
    {
     "name": "stdout",
     "output_type": "stream",
     "text": [
      "NEW DELHI: A controversy erupted over the presence of 1984 anti-Sikh riot accused Jagdish Tytler at a Congress event where Sheila Dikshit took charge as party's Delhi chief.Shiromani Akali Dal MLA Manjinder Singh\u001b[41m Sir\u001b[0m\n"
     ]
    },
    {
     "data": {
      "image/png": "[encoded data removed]",
      "text/plain": [
       "<Figure size 250x150 with 1 Axes>"
      ]
     },
     "metadata": {},
     "output_type": "display_data"
    }
   ],
   "source": [
    "plt.figure(figsize=(2.5, 1.5))\n",
    "\n",
    "i = 2\n",
    "idx = monogenic_idxs[4][0]\n",
    "plt.plot(no_emb_params, curves[idx]/np.log(2), 'o-', markersize=4)\n",
    "plt.xscale('log')\n",
    "plt.xlabel(\"Parameters (non-embedding)\", fontsize=7)\n",
    "plt.ylabel(\"Cross-entropy (bits)\", fontsize=6)\n",
    "plt.yticks([0, 3, 6, 9, 12], fontsize=8)\n",
    "plt.xticks(fontsize=8)\n",
    "print_context(idx)\n",
    "\n",
    "plt.tight_layout(pad=0.1)\n",
    "plt.savefig(\"../figures/tokenscaling/tokensinghsirsa.pdf\")"
   ]
  },
  {
   "cell_type": "code",
   "execution_count": 139,
   "metadata": {},
   "outputs": [
    {
     "name": "stdout",
     "output_type": "stream",
     "text": [
      "[' accused', ' Jag', 'd', 'ish', ' T', 'yt', 'ler', ' at', ' a', ' Congress', ' event', ' where', ' She', 'ila', ' Di', 'ks', 'hit', ' took', ' charge', ' as', ' party', \"'s\", ' Delhi', ' chief', '.', 'Sh', 'i', 'rom', 'ani', ' Ak', 'ali', ' Dal', ' M', 'LA', ' Man', 'j', 'inder', ' Singh', ' Sir']\n"
     ]
    }
   ],
   "source": [
    "print(context_tokens(idx, 38))"
   ]
  },
  {
   "cell_type": "code",
   "execution_count": 140,
   "metadata": {},
   "outputs": [],
   "source": [
    "before = 38\n",
    "after = 5\n",
    "tokens = context_tokens(idx, before, after=after)\n",
    "text = tokens_to_latex(tokens, -(after+1))\n",
    "with open(\"../texts/tokenpile/tokensinghsirsa.tex\", 'w') as f:\n",
    "    f.write(text)"
   ]
  },
  {
   "cell_type": "code",
   "execution_count": 141,
   "metadata": {},
   "outputs": [
    {
     "name": "stdout",
     "output_type": "stream",
     "text": [
      "\n",
      "242 Kan. 875 (1988)\n",
      "752 P.2d 673\n",
      "THE CITY OF ARKANSAS CITY, KANSAS, et al., Plaintiffs/Appellees,\n",
      "v.\n",
      "A. SCOTT ANDERSON, et al., Defendants,\n",
      "v.\n",
      "MID-AMERICA TITLE COMPANY, INC., Garnishee/Defendant, and HESSTON STATE BANK, Interpled Party/Appellant, and THE UNITED STATES OF AMERICA, acting through Farmers Home Administration, Interpled Party.\n",
      "No. 61,040\n",
      "Supreme Court of Kansas.\n",
      "Opinion filed March 25, 1988.\n",
      "W.Y. Chalfant, of Branine, Chalfant & Hill, of Hutchinson, argued the cause and was on the brief for appellant, Hesston State Bank.\n",
      "Kenneth C. Jones, of Watson, Ess,\u001b[41m Marshall\u001b[0m\n"
     ]
    },
    {
     "data": {
      "image/png": "[encoded data removed]",
      "text/plain": [
       "<Figure size 250x150 with 1 Axes>"
      ]
     },
     "metadata": {},
     "output_type": "display_data"
    }
   ],
   "source": [
    "plt.figure(figsize=(2.5, 1.5))\n",
    "\n",
    "i = 2\n",
    "idx = monogenic_idxs[3][7]\n",
    "plt.plot(no_emb_params, curves[idx]/np.log(2), 'o-', markersize=4)\n",
    "plt.xscale('log')\n",
    "plt.xlabel(\"Parameters (non-embedding)\", fontsize=7)\n",
    "plt.ylabel(\"Cross-entropy (bits)\", fontsize=6)\n",
    "plt.yticks([0, 3, 6, 9, 12], fontsize=8)\n",
    "plt.xticks(fontsize=8)\n",
    "print_context(idx)\n",
    "\n",
    "plt.tight_layout(pad=0.1)\n",
    "plt.savefig(\"../figures/tokenscaling/tokenessmarshall.pdf\")"
   ]
  },
  {
   "cell_type": "code",
   "execution_count": 142,
   "metadata": {},
   "outputs": [
    {
     "name": "stdout",
     "output_type": "stream",
     "text": [
      "['O', 'pinion', ' filed', ' March', ' 25', ',', ' 1988', '.', '\\n', 'W', '.', 'Y', '.', ' Ch', 'alf', 'ant', ',', ' of', ' Br', 'anine', ',', ' Ch', 'alf', 'ant', ' &', ' Hill', ',', ' of', ' Hutch', 'inson', ',', ' argued', ' the', ' cause', ' and', ' was', ' on', ' the', ' brief', ' for', ' appellant', ',', ' H', 'es', 'ston', ' State', ' Bank', '.', '\\n', 'Kenn', 'eth', ' C', '.', ' Jones', ',', ' of', ' Watson', ',', ' Ess', ',', ' Marshall']\n"
     ]
    }
   ],
   "source": [
    "print(context_tokens(idx, 60))"
   ]
  },
  {
   "cell_type": "code",
   "execution_count": 143,
   "metadata": {},
   "outputs": [],
   "source": [
    "before = 60\n",
    "after = 5\n",
    "tokens = context_tokens(idx, before, after=after)\n",
    "text = tokens_to_latex(tokens, -(after+1))\n",
    "with open(\"../texts/tokenpile/tokenessmarshall.tex\", 'w') as f:\n",
    "    f.write(text)"
   ]
  },
  {
   "attachments": {},
   "cell_type": "markdown",
   "metadata": {},
   "source": [
    "### Compute polygenic tokens"
   ]
  },
  {
   "cell_type": "code",
   "execution_count": 11,
   "metadata": {},
   "outputs": [
    {
     "data": {
      "application/vnd.jupyter.widget-view+json": {
       "model_id": "7685173d5f534578ae169124eba3ae62",
       "version_major": 2,
       "version_minor": 0
      },
      "text/plain": [
       "  0%|          | 0/100000 [00:00<?, ?it/s]"
      ]
     },
     "metadata": {},
     "output_type": "display_data"
    }
   ],
   "source": [
    "polygenics = []\n",
    "for i in tqdm(range(100000)):\n",
    "    xs = np.log(np.array(no_emb_params))\n",
    "    ys = curves[i]\n",
    "    model = LinearRegression().fit(xs.reshape(-1, 1), ys)\n",
    "    if model.coef_[0] < -0.3 and model.score(xs.reshape(-1, 1), ys) > 0.98:\n",
    "        polygenics.append(i)\n",
    "        # print(i, model.coef_[0], model.score(xs.reshape(-1, 1), ys))\n",
    "        # print_context(i)\n"
   ]
  },
  {
   "cell_type": "code",
   "execution_count": 12,
   "metadata": {},
   "outputs": [
    {
     "name": "stdout",
     "output_type": "stream",
     "text": [
      "18\n",
      "43\n"
     ]
    }
   ],
   "source": [
    "for i, idx in enumerate(polygenics):\n",
    "    doc, l = get_context(idx)\n",
    "    if doc['split_by_token'][l] == ' inf':\n",
    "        print(i)\n",
    "    if doc['split_by_token'][l] == ' normal':\n",
    "        print(i)"
   ]
  },
  {
   "cell_type": "code",
   "execution_count": 144,
   "metadata": {},
   "outputs": [
    {
     "name": "stdout",
     "output_type": "stream",
     "text": [
      "Dectection of spinal cord lesion using skin electrode recordings of spinal evoked potential.\n",
      "The multi-channel recording of somatosensory spinal evoked potential (SSEP) was carried out on 30 patients with various neurological disorders. In some cases, SSEP changes corresponded well with the lesioned level. In general, the lesions of thoraco-cervical level were difficult to detect, because the appearance rate of SSEP peaks are reduced over the thoraco-cervical spine even in\u001b[41m normal\u001b[0m\n"
     ]
    },
    {
     "data": {
      "image/png": "[encoded data removed]",
      "text/plain": [
       "<Figure size 250x150 with 1 Axes>"
      ]
     },
     "metadata": {},
     "output_type": "display_data"
    }
   ],
   "source": [
    "plt.figure(figsize=(2.5, 1.5))\n",
    "\n",
    "i = 18\n",
    "idx = polygenics[i]\n",
    "plt.plot(no_emb_params, curves[idx]/np.log(2), 'o-', markersize=4)\n",
    "plt.xscale('log')\n",
    "plt.xlabel(\"Parameters (non-embedding)\", fontsize=7)\n",
    "plt.ylabel(\"Cross-entropy (bits)\", fontsize=6)\n",
    "plt.yticks([0, 3, 6, 9], fontsize=8)\n",
    "plt.xticks(fontsize=8)\n",
    "print_context(idx)\n",
    "\n",
    "plt.tight_layout(pad=0.1)\n",
    "plt.savefig(\"../figures/tokenscaling/tokenssep-normal.pdf\")"
   ]
  },
  {
   "cell_type": "code",
   "execution_count": 145,
   "metadata": {},
   "outputs": [
    {
     "name": "stdout",
     "output_type": "stream",
     "text": [
      "[' In', ' general', ',', ' the', ' lesions', ' of', ' thor', 'aco', '-', 'c', 'erv', 'ical', ' level', ' were', ' difficult', ' to', ' detect', ',', ' because', ' the', ' appearance', ' rate', ' of', ' S', 'SE', 'P', ' peaks', ' are', ' reduced', ' over', ' the', ' thor', 'aco', '-', 'c', 'erv', 'ical', ' spine', ' even', ' in', ' normal']\n"
     ]
    }
   ],
   "source": [
    "print(context_tokens(idx, 40))"
   ]
  },
  {
   "cell_type": "code",
   "execution_count": 146,
   "metadata": {},
   "outputs": [],
   "source": [
    "before = 40\n",
    "after = 5\n",
    "tokens = context_tokens(idx, before, after=after)\n",
    "text = tokens_to_latex(tokens, -(after+1))\n",
    "with open(\"../texts/tokenpile/tokenssep-normal.tex\", 'w') as f:\n",
    "    f.write(text)"
   ]
  },
  {
   "cell_type": "code",
   "execution_count": 147,
   "metadata": {},
   "outputs": [
    {
     "name": "stdout",
     "output_type": "stream",
     "text": [
      "Translate\n",
      "\n",
      "Sunday, January 6, 2019\n",
      "\n",
      "Summer, Glorious Summer!\n",
      "\n",
      "My garden looks its best in the Summer. A lot of the plants I’ve selected for colour seem to be the ones that flower in summer, which is great because that’s when the garden gets the most use. The most obvious of these flowering plants would have to be the Bougainvillea Vine which I’ve trained to grow over a pergola. It’s a really nice place to sit as it provides a bit of shade from the harsh New Zealand sun.\n",
      "\n",
      "The garden has changed quite a bit as it’s matured over the last few years, so I realised it was time to update the header on my Blog. I’ve been waiting for the Bougainvillea to be in full bloom so I could get a few nice photos. The header photo I decided to use was a panorama shot I took from the roof of the sleepout. This year the pergola was a great place to take a few family photos too.\n",
      "\n",
      "One of the plants I’ve really enjoyed this year would have to be the Hydrangeas. I’ve tried propagating a few over the last couple of years from cuttings and was pleased to see them flowering nicely this year (year 2). The most interesting aspect of this for me was seeing how the colours varied from the original plants I took the cuttings from, as the variations in soil acidity resulted in different coloured blooms. And what blooms they were after giving them a good feed in spring. They make terrific cut flowers too.\n",
      "\n",
      "We’ve been spoilt this year with the number of cut flowers we’ve been able to take in the house.\n",
      "\n",
      "Like these red beauties (which I forget the name of), plus a few others which I forgot to take photos of...\n",
      "\n",
      "The big disappointment this summer was that despite my 2 plum trees fruiting super-abundantly, beyond expectations, the fruit was mostly spoiled by an\u001b[41m inf\u001b[0m\n"
     ]
    },
    {
     "data": {
      "image/png": "[encoded data removed]",
      "text/plain": [
       "<Figure size 250x150 with 1 Axes>"
      ]
     },
     "metadata": {},
     "output_type": "display_data"
    }
   ],
   "source": [
    "plt.figure(figsize=(2.5, 1.5))\n",
    "\n",
    "i = 43\n",
    "idx = polygenics[i]\n",
    "plt.plot(no_emb_params, curves[idx]/np.log(2), 'o-', markersize=4)\n",
    "plt.xscale('log')\n",
    "plt.xlabel(\"Parameters (non-embedding)\", fontsize=7)\n",
    "plt.ylabel(\"Cross-entropy (bits)\", fontsize=6)\n",
    "plt.yticks([0, 3, 6, 9], fontsize=8)\n",
    "plt.xticks(fontsize=8)\n",
    "print_context(idx)\n",
    "\n",
    "plt.tight_layout(pad=0.1)\n",
    "plt.savefig(\"../figures/tokenscaling/tokenfruit-influx.pdf\")"
   ]
  },
  {
   "cell_type": "code",
   "execution_count": 148,
   "metadata": {},
   "outputs": [
    {
     "name": "stdout",
     "output_type": "stream",
     "text": [
      "['The', ' big', ' disappointment', ' this', ' summer', ' was', ' that', ' despite', ' my', ' 2', ' plum', ' trees', ' fru', 'iting', ' super', '-', 'ab', 'und', 'antly', ',', ' beyond', ' expectations', ',', ' the', ' fruit', ' was', ' mostly', ' spoiled', ' by', ' an', ' inf']\n"
     ]
    }
   ],
   "source": [
    "print(context_tokens(idx, 30))"
   ]
  },
  {
   "cell_type": "code",
   "execution_count": 149,
   "metadata": {},
   "outputs": [],
   "source": [
    "before = 30\n",
    "after = 5\n",
    "tokens = context_tokens(idx, before, after=after)\n",
    "text = tokens_to_latex(tokens, -(after+1))\n",
    "with open(\"../texts/tokenpile/tokenfruit-influx.tex\", 'w') as f:\n",
    "    f.write(text)"
   ]
  },
  {
   "cell_type": "code",
   "execution_count": 150,
   "metadata": {},
   "outputs": [
    {
     "name": "stdout",
     "output_type": "stream",
     "text": [
      "Mounting tensions with Syria sink US stocks\n",
      "\n",
      "NEW YORK (AP) — Fears of an escalating conflict in Syria rippled across financial markets on Tuesday, sinking stocks, lifting gold and pushing the price of oil to the highest in a year and a half.\n",
      "\n",
      "The increasing possibility of U.S. military strikes raised worries on Wall Street that energy trade in the region could be disrupted, raising fuel costs for consumers and business.\n",
      "\n",
      "\"If Syria becomes drawn out and becomes a long-term issue, it's going to show up in things like gas prices,\" said Chris Costanzo, investment officer with Tanglewood Wealth Management.\n",
      "\n",
      "The Dow Jones industrial average fell 170.33 points, or 1.1 percent, to 14,776.13, the lowest in two months.\n",
      "\n",
      "The Standard & Poor's 500 index lost 26.30 points, or 1.6 percent, to 1,630.48 and the Nasdaq composite fell 79.05 points, or 2.2 percent, to 3,578.52.\n",
      "\n",
      "\"The law of unintended consequences and the history of previous military interventions in the region is not a recipe for political and economic stability,\" said Neil MacKinnon, global macro strategist at VTB Capital.\n",
      "\n",
      "The sell-off in U.S. stocks was broad. All 10 industry sectors in the S&P 500 index were in the red, and only 31 of the index's 500 stocks rose. Utilities and other high dividend-paying stocks mostly escaped the selling.\n",
      "\n",
      "The impact wasn't just in stocks. Gold prices advanced and government bond prices jumped because traders see those investments holding their value better in times of uncertainty. Gold rose $27, or 2 percent, to $1,420 an ounce while the yield on the benchmark U.S. 10-year Treasury note fell to 2.71 percent from 2.79 percent.\n",
      "\n",
      "While Syria itself has little oil, traders feared an intervention in Syria could cause further instability in the Middle East and possibly disrupt the flow of oil from the region. Oil surged $3.09, or 2.9 percent, to close at $109.01 a barrel, the highest closing price since February 2012.\n",
      "\n",
      "\"People worry about this becoming a worst-case scenario and turning into a regional conflict,\" said Bill Stone, chief investment strategist at PNC Asset Management.\n",
      "\n",
      "Energy prices dragged down the airline industry on concerns that higher oil prices could lead to higher fuel costs. United Continental Holdings, the world's largest airline by revenue, dropped $2.15, or 7.2 percent, to $27.71 and Delta Air Lines lost $1.16, or 5.7 percent, to $19.11.\n",
      "\n",
      "Stone said oil prices could start weighing on\u001b[41m consumer\u001b[0m\n"
     ]
    },
    {
     "data": {
      "image/png": "[encoded data removed]",
      "text/plain": [
       "<Figure size 250x150 with 1 Axes>"
      ]
     },
     "metadata": {},
     "output_type": "display_data"
    }
   ],
   "source": [
    "plt.figure(figsize=(2.5, 1.5))\n",
    "\n",
    "i = 4\n",
    "idx = polygenics[i]\n",
    "plt.plot(no_emb_params, curves[idx]/np.log(2), 'o-', markersize=4)\n",
    "plt.xscale('log')\n",
    "plt.xlabel(\"Parameters (non-embedding)\", fontsize=7)\n",
    "plt.ylabel(\"Cross-entropy (bits)\", fontsize=6)\n",
    "plt.yticks([0, 3, 6, 9], fontsize=8)\n",
    "plt.xticks(fontsize=8)\n",
    "print_context(idx)\n",
    "\n",
    "plt.tight_layout(pad=0.1)\n",
    "plt.savefig(\"../figures/tokenscaling/tokenonconsumer.pdf\")"
   ]
  },
  {
   "cell_type": "code",
   "execution_count": 151,
   "metadata": {},
   "outputs": [
    {
     "name": "stdout",
     "output_type": "stream",
     "text": [
      "[' airline', ' by', ' revenue', ',', ' dropped', ' $', '2', '.', '15', ',', ' or', ' 7', '.', '2', ' percent', ',', ' to', ' $', '27', '.', '71', ' and', ' Delta', ' Air', ' Lines', ' lost', ' $', '1', '.', '16', ',', ' or', ' 5', '.', '7', ' percent', ',', ' to', ' $', '19', '.', '11', '.', '\\n', '\\n', 'Stone', ' said', ' oil', ' prices', ' could', ' start', ' weighing', ' on', ' consumer']\n"
     ]
    }
   ],
   "source": [
    "print(context_tokens(idx, 53))"
   ]
  },
  {
   "cell_type": "code",
   "execution_count": 152,
   "metadata": {},
   "outputs": [],
   "source": [
    "before = 53\n",
    "after = 5\n",
    "tokens = context_tokens(idx, before, after=after)\n",
    "text = tokens_to_latex(tokens, -(after+1))\n",
    "with open(\"../texts/tokenpile/tokenonconsumer.tex\", 'w') as f:\n",
    "    f.write(text)"
   ]
  },
  {
   "cell_type": "code",
   "execution_count": null,
   "metadata": {},
   "outputs": [],
   "source": []
  },
  {
   "cell_type": "code",
   "execution_count": null,
   "metadata": {},
   "outputs": [],
   "source": []
  }
 ],
 "metadata": {
  "kernelspec": {
   "display_name": "phase-changes",
   "language": "python",
   "name": "python3"
  },
  "language_info": {
   "codemirror_mode": {
    "name": "ipython",
    "version": 3
   },
   "file_extension": ".py",
   "mimetype": "text/x-python",
   "name": "python",
   "nbconvert_exporter": "python",
   "pygments_lexer": "ipython3",
   "version": "3.8.12"
  },
  "orig_nbformat": 4,
  "vscode": {
   "interpreter": {
    "hash": "f19f355d1a0adb25de3a0476209ea738ec9ebf77e8caad0b0fb02aa74534f56c"
   }
  }
 },
 "nbformat": 4,
 "nbformat_minor": 2
}
